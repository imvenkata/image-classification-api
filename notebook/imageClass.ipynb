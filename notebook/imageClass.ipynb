{
 "cells": [
  {
   "cell_type": "code",
   "execution_count": null,
   "source": [],
   "outputs": [],
   "metadata": {}
  },
  {
   "cell_type": "markdown",
   "source": [
    "#Load packages"
   ],
   "metadata": {}
  },
  {
   "cell_type": "code",
   "execution_count": 1,
   "source": [
    "from fastapi import FastAPI, File, UploadFile, HTTPException\r\n",
    "from PIL import Image\r\n",
    "from pydantic import BaseModel\r\n",
    "from tensorflow.keras.models import load_model\r\n",
    "from typing import List\r\n",
    "import io\r\n",
    "import numpy as np\r\n",
    "import sys"
   ],
   "outputs": [],
   "metadata": {}
  },
  {
   "cell_type": "code",
   "execution_count": 17,
   "source": [
    "import tensorflow as tf\r\n",
    "def load_model():\r\n",
    " # model = tf.keras.applications.densenet.DenseNet121(weights='imagenet')\r\n",
    "  #model = tf.keras.applications.MobileNetV2(weights=\"imagenet\")\r\n",
    "  print('model loaded')\r\n",
    "  return model"
   ],
   "outputs": [],
   "metadata": {}
  },
  {
   "cell_type": "code",
   "execution_count": 18,
   "source": [
    "model = load_model()"
   ],
   "outputs": [
    {
     "output_type": "stream",
     "name": "stdout",
     "text": [
      "model loaded\n"
     ]
    }
   ],
   "metadata": {}
  },
  {
   "cell_type": "code",
   "execution_count": 19,
   "source": [
    "# Get the input shape for the model layer\r\n",
    "input_shape = model.layers[0].input_shape\r\n",
    "print(input_shape)"
   ],
   "outputs": [
    {
     "output_type": "stream",
     "name": "stdout",
     "text": [
      "[(None, 224, 224, 3)]\n"
     ]
    }
   ],
   "metadata": {}
  },
  {
   "cell_type": "code",
   "execution_count": 8,
   "source": [
    "# Define the FastAPI app\r\n",
    "app = FastAPI()"
   ],
   "outputs": [],
   "metadata": {}
  },
  {
   "cell_type": "code",
   "execution_count": 9,
   "source": [
    "# Define the Response\r\n",
    "class Prediction(BaseModel):\r\n",
    "  filename: str\r\n",
    "  contenttype: str\r\n",
    "  prediction: List[float] = []\r\n",
    "  likely_class: int"
   ],
   "outputs": [],
   "metadata": {}
  },
  {
   "cell_type": "code",
   "execution_count": 10,
   "source": [
    "# Define the main route\r\n",
    "@app.get('/')\r\n",
    "def root_route():\r\n",
    "  return { 'error': 'Use GET /prediction instead of the root route!' }"
   ],
   "outputs": [],
   "metadata": {}
  },
  {
   "cell_type": "code",
   "execution_count": 12,
   "source": [
    "# Define the /prediction route\r\n",
    "@app.post('/prediction/', response_model=Prediction)\r\n",
    "async def prediction_route(file: UploadFile = File(...)):\r\n",
    "\r\n",
    "  # Ensure that this is an image\r\n",
    "  if file.content_type.startswith('image/') is False:\r\n",
    "    raise HTTPException(status_code=400, detail=f'File \\'{file.filename}\\' is not an image.')\r\n",
    "\r\n",
    "  try:\r\n",
    "    # Read image contents\r\n",
    "    contents = await file.read()\r\n",
    "    pil_image = Image.open(io.BytesIO(contents))\r\n",
    "\r\n",
    "    # Resize image to expected input shape\r\n",
    "    pil_image = pil_image.resize((input_shape[1], input_shape[2]))\r\n",
    "\r\n",
    "    # Convert from RGBA to RGB *to avoid alpha channels*\r\n",
    "    if pil_image.mode == 'RGBA':\r\n",
    "      pil_image = pil_image.convert('RGB')\r\n",
    "\r\n",
    "    # Convert image into grayscale *if expected*\r\n",
    "    if input_shape[3] and input_shape[3] == 1:\r\n",
    "      pil_image = pil_image.convert('L')\r\n",
    "\r\n",
    "    # Convert image into numpy format\r\n",
    "    numpy_image = np.array(pil_image).reshape((input_shape[1], input_shape[2], input_shape[3]))\r\n",
    "\r\n",
    "    # Scale data (depending on your model)\r\n",
    "    numpy_image = numpy_image / 255\r\n",
    "\r\n",
    "    # Generate prediction\r\n",
    "    prediction_array = np.array([numpy_image])\r\n",
    "    predictions = model.predict(prediction_array)\r\n",
    "    prediction = predictions[0]\r\n",
    "    likely_class = np.argmax(prediction)\r\n",
    "\r\n",
    "    return {\r\n",
    "      'filename': file.filename,\r\n",
    "      'contenttype': file.content_type,\r\n",
    "      'prediction': prediction.tolist(),\r\n",
    "      'likely_class': likely_class\r\n",
    "    }\r\n",
    "  except:\r\n",
    "    e = sys.exc_info()[1]\r\n",
    "    raise HTTPException(status_code=500, detail=str(e))"
   ],
   "outputs": [],
   "metadata": {}
  }
 ],
 "metadata": {
  "orig_nbformat": 4,
  "language_info": {
   "name": "python",
   "version": "3.9.7",
   "mimetype": "text/x-python",
   "codemirror_mode": {
    "name": "ipython",
    "version": 3
   },
   "pygments_lexer": "ipython3",
   "nbconvert_exporter": "python",
   "file_extension": ".py"
  },
  "kernelspec": {
   "name": "python3",
   "display_name": "Python 3.9.7 64-bit ('ai': conda)"
  },
  "interpreter": {
   "hash": "3a5ea16890790776dada95f045841084a330cc0388e9dbf05905a9d97fa418fc"
  }
 },
 "nbformat": 4,
 "nbformat_minor": 2
}